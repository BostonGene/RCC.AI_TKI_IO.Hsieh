{
 "cells": [
  {
   "cell_type": "code",
   "execution_count": 1,
   "id": "e37c6429-64eb-4566-a782-5530689ad6ca",
   "metadata": {
    "execution": {
     "iopub.execute_input": "2025-06-02T13:28:53.662816Z",
     "iopub.status.busy": "2025-06-02T13:28:53.662544Z",
     "iopub.status.idle": "2025-06-02T13:28:57.518992Z",
     "shell.execute_reply": "2025-06-02T13:28:57.518594Z",
     "shell.execute_reply.started": "2025-06-02T13:28:53.662800Z"
    }
   },
   "outputs": [
    {
     "name": "stderr",
     "output_type": "stream",
     "text": [
      "/home/jovyan/projects/TKI_IO_perdictor_Stupichev/MFP/TME_env/lib/python3.10/site-packages/tqdm/auto.py:22: TqdmWarning: IProgress not found. Please update jupyter and ipywidgets. See https://ipywidgets.readthedocs.io/en/stable/user_install.html\n",
      "  from .autonotebook import tqdm as notebook_tqdm\n"
     ]
    }
   ],
   "source": [
    "import pandas as pd\n",
    "from sklearn.linear_model import LogisticRegression\n",
    "import pickle\n",
    "import numpy as np\n",
    "import seaborn as sns\n",
    "import matplotlib\n",
    "import matplotlib.pyplot as plt\n",
    "from portraits.plotting import axis_matras, axis_net, line_palette_annotation_plot\n"
   ]
  },
  {
   "cell_type": "code",
   "execution_count": 2,
   "id": "de1cba12-986b-49e9-99d8-17f730638f08",
   "metadata": {
    "execution": {
     "iopub.execute_input": "2025-06-02T13:28:57.521632Z",
     "iopub.status.busy": "2025-06-02T13:28:57.520867Z",
     "iopub.status.idle": "2025-06-02T13:28:57.524727Z",
     "shell.execute_reply": "2025-06-02T13:28:57.524350Z",
     "shell.execute_reply.started": "2025-06-02T13:28:57.521613Z"
    }
   },
   "outputs": [],
   "source": [
    "TKI_palette = {\n",
    "    'Low': '#6E672C',\n",
    "    'Medium': '#979234',\n",
    "    'High':'#ACA715'\n",
    "}\n",
    "recist = {'R': '#66dd66', 'NR': '#f26755'}\n",
    "\n",
    "def classify_score(score):\n",
    "    if score <= 0.55:\n",
    "        return 'Low'\n",
    "    elif 0.55 < score <= 0.8:\n",
    "        return 'Medium'\n",
    "    else:\n",
    "        return 'High'"
   ]
  },
  {
   "cell_type": "markdown",
   "id": "b94205f8-312c-4cc9-8f30-713fd15cb2cb",
   "metadata": {},
   "source": [
    "# Loading and Inspecting a Pretrained Gene Signature Model"
   ]
  },
  {
   "cell_type": "code",
   "execution_count": 3,
   "id": "1444c9ba-03b7-4511-83eb-f5e2d2312ddc",
   "metadata": {
    "execution": {
     "iopub.execute_input": "2025-06-02T13:28:57.526705Z",
     "iopub.status.busy": "2025-06-02T13:28:57.526044Z",
     "iopub.status.idle": "2025-06-02T13:28:57.533784Z",
     "shell.execute_reply": "2025-06-02T13:28:57.533478Z",
     "shell.execute_reply.started": "2025-06-02T13:28:57.526688Z"
    }
   },
   "outputs": [
    {
     "name": "stderr",
     "output_type": "stream",
     "text": [
      "/home/jovyan/projects/TKI_IO_perdictor_Stupichev/MFP/TME_env/lib/python3.10/site-packages/sklearn/base.py:299: UserWarning: Trying to unpickle estimator LogisticRegression from version 1.1.1 when using version 1.2.1. This might lead to breaking code or invalid results. Use at your own risk. For more info please refer to:\n",
      "https://scikit-learn.org/stable/model_persistence.html#security-maintainability-limitations\n",
      "  warnings.warn(\n"
     ]
    },
    {
     "data": {
      "text/plain": [
       "dict_keys(['model', 'features', 'data', 'gene_signature'])"
      ]
     },
     "execution_count": 3,
     "metadata": {},
     "output_type": "execute_result"
    }
   ],
   "source": [
    "# Import utility for reading gene sets (not used in this cell but may be used later)\n",
    "from portraits.utils import read_gene_sets\n",
    "\n",
    "# Load a saved model dictionary from a .pickle file\n",
    "# The file contains various components of a trained model (e.g., classifier, metadata, parameters)\n",
    "with open('Data/ccrcc_tki_0.1.pickle', \"rb\") as f:\n",
    "    model_dict = pickle.load(f)\n",
    "\n",
    "# Display the keys in the loaded dictionary to understand what components are available\n",
    "# Common keys might include: 'model', 'features', 'params', etc.\n",
    "model_dict.keys()\n"
   ]
  },
  {
   "cell_type": "code",
   "execution_count": 4,
   "id": "97779add-6da8-433a-9ec8-8d0f26421052",
   "metadata": {
    "execution": {
     "iopub.execute_input": "2025-06-02T13:28:57.535870Z",
     "iopub.status.busy": "2025-06-02T13:28:57.535198Z",
     "iopub.status.idle": "2025-06-02T13:28:57.540194Z",
     "shell.execute_reply": "2025-06-02T13:28:57.539726Z",
     "shell.execute_reply.started": "2025-06-02T13:28:57.535853Z"
    }
   },
   "outputs": [
    {
     "data": {
      "text/plain": [
       "array([[ 0.39398058, -0.26055865, -0.6713639 ]])"
      ]
     },
     "execution_count": 4,
     "metadata": {},
     "output_type": "execute_result"
    }
   ],
   "source": [
    "# Extract the trained modelfrom the loaded dictionary\n",
    "model = model_dict['model']\n",
    "\n",
    "# Extract the list of features used for training the model\n",
    "features = model_dict['features']\n",
    "\n",
    "# Extract the gene signature (likely in GMT format or similar) used for feature generation\n",
    "gmt = model_dict['gene_signature']\n",
    "\n",
    "# Display the model coefficients (weights assigned to each feature by the model)\n",
    "# These reflect the importance and direction (positive/negative) of each feature in prediction\n",
    "model_dict['model'].coef_\n"
   ]
  },
  {
   "cell_type": "code",
   "execution_count": 5,
   "id": "60e04149-e30c-4440-9f98-36342a4fcbc2",
   "metadata": {
    "execution": {
     "iopub.execute_input": "2025-06-02T13:28:57.542014Z",
     "iopub.status.busy": "2025-06-02T13:28:57.541332Z",
     "iopub.status.idle": "2025-06-02T13:28:57.544618Z",
     "shell.execute_reply": "2025-06-02T13:28:57.544264Z",
     "shell.execute_reply.started": "2025-06-02T13:28:57.541998Z"
    }
   },
   "outputs": [],
   "source": [
    "# Extract signature expression data for training and validation sets\n",
    "# These are likely gene set activity scores or pathway-level features\n",
    "train_expression = model_dict['data']['train_signature']\n",
    "validation_expression = model_dict['data']['validation_signature']\n",
    "\n",
    "# Extract sample-level annotations (e.g. clinical data, labels) for training and validation sets\n",
    "train_annotation = model_dict['data']['train_annotation']\n",
    "validation_annotation = model_dict['data']['validation_annotation']"
   ]
  },
  {
   "cell_type": "markdown",
   "id": "e3a4300b-5bcd-4a50-92f5-b4465707a9c1",
   "metadata": {},
   "source": [
    "## Prepare Training Features and Labels"
   ]
  },
  {
   "cell_type": "code",
   "execution_count": 6,
   "id": "fb523639-093b-4dba-aa34-7c5f49cbf710",
   "metadata": {
    "execution": {
     "iopub.execute_input": "2025-06-02T13:28:57.546579Z",
     "iopub.status.busy": "2025-06-02T13:28:57.545926Z",
     "iopub.status.idle": "2025-06-02T13:28:57.549526Z",
     "shell.execute_reply": "2025-06-02T13:28:57.549162Z",
     "shell.execute_reply.started": "2025-06-02T13:28:57.546563Z"
    }
   },
   "outputs": [],
   "source": [
    "# Align feature matrix (X) with available annotations (y) by index\n",
    "# This ensures that both features and labels refer to the same samples\n",
    "X = train_expression.loc[train_annotation.index]\n",
    "y = train_annotation"
   ]
  },
  {
   "cell_type": "code",
   "execution_count": 7,
   "id": "d535099b-631f-4c47-b45e-438f8127f338",
   "metadata": {
    "execution": {
     "iopub.execute_input": "2025-06-02T13:28:57.551289Z",
     "iopub.status.busy": "2025-06-02T13:28:57.550646Z",
     "iopub.status.idle": "2025-06-02T13:28:57.621402Z",
     "shell.execute_reply": "2025-06-02T13:28:57.621050Z",
     "shell.execute_reply.started": "2025-06-02T13:28:57.551274Z"
    }
   },
   "outputs": [
    {
     "data": {
      "text/html": [
       "<div>\n",
       "<style scoped>\n",
       "    .dataframe tbody tr th:only-of-type {\n",
       "        vertical-align: middle;\n",
       "    }\n",
       "\n",
       "    .dataframe tbody tr th {\n",
       "        vertical-align: top;\n",
       "    }\n",
       "\n",
       "    .dataframe thead th {\n",
       "        text-align: right;\n",
       "    }\n",
       "</style>\n",
       "<table border=\"1\" class=\"dataframe\">\n",
       "  <thead>\n",
       "    <tr style=\"text-align: right;\">\n",
       "      <th></th>\n",
       "      <th>Angiogenesis</th>\n",
       "      <th>Macrophages</th>\n",
       "      <th>Proliferation_rate</th>\n",
       "    </tr>\n",
       "  </thead>\n",
       "  <tbody>\n",
       "    <tr>\n",
       "      <th>Sample 10</th>\n",
       "      <td>1.236958</td>\n",
       "      <td>1.404008</td>\n",
       "      <td>0.873214</td>\n",
       "    </tr>\n",
       "    <tr>\n",
       "      <th>Sample 11</th>\n",
       "      <td>0.674490</td>\n",
       "      <td>0.264348</td>\n",
       "      <td>1.081181</td>\n",
       "    </tr>\n",
       "    <tr>\n",
       "      <th>Sample 13</th>\n",
       "      <td>-0.798730</td>\n",
       "      <td>-0.847935</td>\n",
       "      <td>-0.236326</td>\n",
       "    </tr>\n",
       "    <tr>\n",
       "      <th>Sample 14</th>\n",
       "      <td>-1.204849</td>\n",
       "      <td>-2.620739</td>\n",
       "      <td>1.089760</td>\n",
       "    </tr>\n",
       "    <tr>\n",
       "      <th>Sample 15</th>\n",
       "      <td>-0.808993</td>\n",
       "      <td>-0.053119</td>\n",
       "      <td>-0.468193</td>\n",
       "    </tr>\n",
       "  </tbody>\n",
       "</table>\n",
       "</div>"
      ],
      "text/plain": [
       "           Angiogenesis  Macrophages  Proliferation_rate\n",
       "Sample 10      1.236958     1.404008            0.873214\n",
       "Sample 11      0.674490     0.264348            1.081181\n",
       "Sample 13     -0.798730    -0.847935           -0.236326\n",
       "Sample 14     -1.204849    -2.620739            1.089760\n",
       "Sample 15     -0.808993    -0.053119           -0.468193"
      ]
     },
     "execution_count": 7,
     "metadata": {},
     "output_type": "execute_result"
    }
   ],
   "source": [
    "X.head()"
   ]
  },
  {
   "cell_type": "code",
   "execution_count": 8,
   "id": "400bc183-2bb1-4ebb-9085-913875f0b277",
   "metadata": {
    "execution": {
     "iopub.execute_input": "2025-06-02T13:28:57.623338Z",
     "iopub.status.busy": "2025-06-02T13:28:57.622663Z",
     "iopub.status.idle": "2025-06-02T13:28:57.831918Z",
     "shell.execute_reply": "2025-06-02T13:28:57.831541Z",
     "shell.execute_reply.started": "2025-06-02T13:28:57.623320Z"
    }
   },
   "outputs": [
    {
     "data": {
      "text/plain": [
       "R     167\n",
       "NR     73\n",
       "Name: Recist, dtype: int64"
      ]
     },
     "execution_count": 8,
     "metadata": {},
     "output_type": "execute_result"
    }
   ],
   "source": [
    "train_annotation.value_counts()"
   ]
  },
  {
   "cell_type": "markdown",
   "id": "40f75841-e1eb-452f-a3c6-9659319d86f1",
   "metadata": {},
   "source": [
    "## Model coefficients"
   ]
  },
  {
   "cell_type": "code",
   "execution_count": 9,
   "id": "7d27bdcd-62bc-44f8-891e-548d52580150",
   "metadata": {
    "execution": {
     "iopub.execute_input": "2025-06-02T13:28:57.833802Z",
     "iopub.status.busy": "2025-06-02T13:28:57.833139Z",
     "iopub.status.idle": "2025-06-02T13:28:58.043216Z",
     "shell.execute_reply": "2025-06-02T13:28:58.042870Z",
     "shell.execute_reply.started": "2025-06-02T13:28:57.833785Z"
    }
   },
   "outputs": [
    {
     "data": {
      "text/plain": [
       "array([[ 0.39398058, -0.26055865, -0.6713639 ]])"
      ]
     },
     "execution_count": 9,
     "metadata": {},
     "output_type": "execute_result"
    }
   ],
   "source": [
    "model.coef_"
   ]
  },
  {
   "cell_type": "markdown",
   "id": "95749bf4-c6e2-4cda-b072-96b6f80b8554",
   "metadata": {},
   "source": [
    "# Ability Prediction Model"
   ]
  },
  {
   "cell_type": "code",
   "execution_count": 10,
   "id": "dfa4a2b0-28c1-4060-9d54-a46788ebf974",
   "metadata": {
    "ExecuteTime": {
     "end_time": "2022-06-01T10:47:48.805191Z",
     "start_time": "2022-06-01T10:47:48.785563Z"
    },
    "execution": {
     "iopub.execute_input": "2025-06-02T13:28:58.045720Z",
     "iopub.status.busy": "2025-06-02T13:28:58.045058Z",
     "iopub.status.idle": "2025-06-02T13:28:58.259792Z",
     "shell.execute_reply": "2025-06-02T13:28:58.259442Z",
     "shell.execute_reply.started": "2025-06-02T13:28:58.045703Z"
    }
   },
   "outputs": [
    {
     "data": {
      "text/html": [
       "<style>#sk-container-id-1 {color: black;background-color: white;}#sk-container-id-1 pre{padding: 0;}#sk-container-id-1 div.sk-toggleable {background-color: white;}#sk-container-id-1 label.sk-toggleable__label {cursor: pointer;display: block;width: 100%;margin-bottom: 0;padding: 0.3em;box-sizing: border-box;text-align: center;}#sk-container-id-1 label.sk-toggleable__label-arrow:before {content: \"▸\";float: left;margin-right: 0.25em;color: #696969;}#sk-container-id-1 label.sk-toggleable__label-arrow:hover:before {color: black;}#sk-container-id-1 div.sk-estimator:hover label.sk-toggleable__label-arrow:before {color: black;}#sk-container-id-1 div.sk-toggleable__content {max-height: 0;max-width: 0;overflow: hidden;text-align: left;background-color: #f0f8ff;}#sk-container-id-1 div.sk-toggleable__content pre {margin: 0.2em;color: black;border-radius: 0.25em;background-color: #f0f8ff;}#sk-container-id-1 input.sk-toggleable__control:checked~div.sk-toggleable__content {max-height: 200px;max-width: 100%;overflow: auto;}#sk-container-id-1 input.sk-toggleable__control:checked~label.sk-toggleable__label-arrow:before {content: \"▾\";}#sk-container-id-1 div.sk-estimator input.sk-toggleable__control:checked~label.sk-toggleable__label {background-color: #d4ebff;}#sk-container-id-1 div.sk-label input.sk-toggleable__control:checked~label.sk-toggleable__label {background-color: #d4ebff;}#sk-container-id-1 input.sk-hidden--visually {border: 0;clip: rect(1px 1px 1px 1px);clip: rect(1px, 1px, 1px, 1px);height: 1px;margin: -1px;overflow: hidden;padding: 0;position: absolute;width: 1px;}#sk-container-id-1 div.sk-estimator {font-family: monospace;background-color: #f0f8ff;border: 1px dotted black;border-radius: 0.25em;box-sizing: border-box;margin-bottom: 0.5em;}#sk-container-id-1 div.sk-estimator:hover {background-color: #d4ebff;}#sk-container-id-1 div.sk-parallel-item::after {content: \"\";width: 100%;border-bottom: 1px solid gray;flex-grow: 1;}#sk-container-id-1 div.sk-label:hover label.sk-toggleable__label {background-color: #d4ebff;}#sk-container-id-1 div.sk-serial::before {content: \"\";position: absolute;border-left: 1px solid gray;box-sizing: border-box;top: 0;bottom: 0;left: 50%;z-index: 0;}#sk-container-id-1 div.sk-serial {display: flex;flex-direction: column;align-items: center;background-color: white;padding-right: 0.2em;padding-left: 0.2em;position: relative;}#sk-container-id-1 div.sk-item {position: relative;z-index: 1;}#sk-container-id-1 div.sk-parallel {display: flex;align-items: stretch;justify-content: center;background-color: white;position: relative;}#sk-container-id-1 div.sk-item::before, #sk-container-id-1 div.sk-parallel-item::before {content: \"\";position: absolute;border-left: 1px solid gray;box-sizing: border-box;top: 0;bottom: 0;left: 50%;z-index: -1;}#sk-container-id-1 div.sk-parallel-item {display: flex;flex-direction: column;z-index: 1;position: relative;background-color: white;}#sk-container-id-1 div.sk-parallel-item:first-child::after {align-self: flex-end;width: 50%;}#sk-container-id-1 div.sk-parallel-item:last-child::after {align-self: flex-start;width: 50%;}#sk-container-id-1 div.sk-parallel-item:only-child::after {width: 0;}#sk-container-id-1 div.sk-dashed-wrapped {border: 1px dashed gray;margin: 0 0.4em 0.5em 0.4em;box-sizing: border-box;padding-bottom: 0.4em;background-color: white;}#sk-container-id-1 div.sk-label label {font-family: monospace;font-weight: bold;display: inline-block;line-height: 1.2em;}#sk-container-id-1 div.sk-label-container {text-align: center;}#sk-container-id-1 div.sk-container {/* jupyter's `normalize.less` sets `[hidden] { display: none; }` but bootstrap.min.css set `[hidden] { display: none !important; }` so we also need the `!important` here to be able to override the default hidden behavior on the sphinx rendered scikit-learn.org. See: https://github.com/scikit-learn/scikit-learn/issues/21755 */display: inline-block !important;position: relative;}#sk-container-id-1 div.sk-text-repr-fallback {display: none;}</style><div id=\"sk-container-id-1\" class=\"sk-top-container\"><div class=\"sk-text-repr-fallback\"><pre>LogisticRegression()</pre><b>In a Jupyter environment, please rerun this cell to show the HTML representation or trust the notebook. <br />On GitHub, the HTML representation is unable to render, please try loading this page with nbviewer.org.</b></div><div class=\"sk-container\" hidden><div class=\"sk-item\"><div class=\"sk-estimator sk-toggleable\"><input class=\"sk-toggleable__control sk-hidden--visually\" id=\"sk-estimator-id-1\" type=\"checkbox\" checked><label for=\"sk-estimator-id-1\" class=\"sk-toggleable__label sk-toggleable__label-arrow\">LogisticRegression</label><div class=\"sk-toggleable__content\"><pre>LogisticRegression()</pre></div></div></div></div></div>"
      ],
      "text/plain": [
       "LogisticRegression()"
      ]
     },
     "execution_count": 10,
     "metadata": {},
     "output_type": "execute_result"
    }
   ],
   "source": [
    "# Initialize and train a logistic regression model using training features (X) and labels (y)\n",
    "model = LogisticRegression()\n",
    "model.fit(X, y)"
   ]
  },
  {
   "cell_type": "code",
   "execution_count": 11,
   "id": "674192da-15d6-4fd4-8d8d-c457357ad0f6",
   "metadata": {
    "execution": {
     "iopub.execute_input": "2025-06-02T13:28:58.261653Z",
     "iopub.status.busy": "2025-06-02T13:28:58.260995Z",
     "iopub.status.idle": "2025-06-02T13:28:58.467344Z",
     "shell.execute_reply": "2025-06-02T13:28:58.466990Z",
     "shell.execute_reply.started": "2025-06-02T13:28:58.261636Z"
    }
   },
   "outputs": [
    {
     "data": {
      "text/plain": [
       "array([[ 0.39398058, -0.26055865, -0.6713639 ]])"
      ]
     },
     "execution_count": 11,
     "metadata": {},
     "output_type": "execute_result"
    }
   ],
   "source": [
    "# View the coefficients of the trained logistic regression model\n",
    "model.coef_"
   ]
  },
  {
   "cell_type": "code",
   "execution_count": 12,
   "id": "8e5b6699-2814-41e5-9b78-ad0571deb8d8",
   "metadata": {
    "execution": {
     "iopub.execute_input": "2025-06-02T13:28:58.469201Z",
     "iopub.status.busy": "2025-06-02T13:28:58.468557Z",
     "iopub.status.idle": "2025-06-02T13:28:58.712963Z",
     "shell.execute_reply": "2025-06-02T13:28:58.712619Z",
     "shell.execute_reply.started": "2025-06-02T13:28:58.469184Z"
    }
   },
   "outputs": [
    {
     "data": {
      "text/html": [
       "<div>\n",
       "<style scoped>\n",
       "    .dataframe tbody tr th:only-of-type {\n",
       "        vertical-align: middle;\n",
       "    }\n",
       "\n",
       "    .dataframe tbody tr th {\n",
       "        vertical-align: top;\n",
       "    }\n",
       "\n",
       "    .dataframe thead th {\n",
       "        text-align: right;\n",
       "    }\n",
       "</style>\n",
       "<table border=\"1\" class=\"dataframe\">\n",
       "  <thead>\n",
       "    <tr style=\"text-align: right;\">\n",
       "      <th></th>\n",
       "      <th>Angiogenesis</th>\n",
       "      <th>Macrophages</th>\n",
       "      <th>Proliferation_rate</th>\n",
       "    </tr>\n",
       "  </thead>\n",
       "  <tbody>\n",
       "    <tr>\n",
       "      <th>Imm150_262873171124023</th>\n",
       "      <td>1.604719</td>\n",
       "      <td>-0.467038</td>\n",
       "      <td>-1.343252</td>\n",
       "    </tr>\n",
       "    <tr>\n",
       "      <th>Imm150_69015818905746</th>\n",
       "      <td>0.739392</td>\n",
       "      <td>1.217798</td>\n",
       "      <td>2.059253</td>\n",
       "    </tr>\n",
       "    <tr>\n",
       "      <th>Imm150_121121567855264</th>\n",
       "      <td>-0.655489</td>\n",
       "      <td>0.165246</td>\n",
       "      <td>0.505075</td>\n",
       "    </tr>\n",
       "    <tr>\n",
       "      <th>Imm150_71331376983724</th>\n",
       "      <td>0.177488</td>\n",
       "      <td>0.943912</td>\n",
       "      <td>-1.215135</td>\n",
       "    </tr>\n",
       "    <tr>\n",
       "      <th>Imm150_276496020777021</th>\n",
       "      <td>-2.391940</td>\n",
       "      <td>1.597465</td>\n",
       "      <td>1.887787</td>\n",
       "    </tr>\n",
       "    <tr>\n",
       "      <th>...</th>\n",
       "      <td>...</td>\n",
       "      <td>...</td>\n",
       "      <td>...</td>\n",
       "    </tr>\n",
       "    <tr>\n",
       "      <th>ID_002603</th>\n",
       "      <td>0.583597</td>\n",
       "      <td>1.132249</td>\n",
       "      <td>3.295559</td>\n",
       "    </tr>\n",
       "    <tr>\n",
       "      <th>ID_000178</th>\n",
       "      <td>0.526681</td>\n",
       "      <td>1.114101</td>\n",
       "      <td>0.012757</td>\n",
       "    </tr>\n",
       "    <tr>\n",
       "      <th>ID_000100</th>\n",
       "      <td>-0.451886</td>\n",
       "      <td>-0.683950</td>\n",
       "      <td>0.388210</td>\n",
       "    </tr>\n",
       "    <tr>\n",
       "      <th>ID_000081</th>\n",
       "      <td>-1.331007</td>\n",
       "      <td>-0.805620</td>\n",
       "      <td>1.002988</td>\n",
       "    </tr>\n",
       "    <tr>\n",
       "      <th>ID_000090</th>\n",
       "      <td>-0.979317</td>\n",
       "      <td>-1.415283</td>\n",
       "      <td>1.104861</td>\n",
       "    </tr>\n",
       "  </tbody>\n",
       "</table>\n",
       "<p>265 rows × 3 columns</p>\n",
       "</div>"
      ],
      "text/plain": [
       "                        Angiogenesis  Macrophages  Proliferation_rate\n",
       "Imm150_262873171124023      1.604719    -0.467038           -1.343252\n",
       "Imm150_69015818905746       0.739392     1.217798            2.059253\n",
       "Imm150_121121567855264     -0.655489     0.165246            0.505075\n",
       "Imm150_71331376983724       0.177488     0.943912           -1.215135\n",
       "Imm150_276496020777021     -2.391940     1.597465            1.887787\n",
       "...                              ...          ...                 ...\n",
       "ID_002603                   0.583597     1.132249            3.295559\n",
       "ID_000178                   0.526681     1.114101            0.012757\n",
       "ID_000100                  -0.451886    -0.683950            0.388210\n",
       "ID_000081                  -1.331007    -0.805620            1.002988\n",
       "ID_000090                  -0.979317    -1.415283            1.104861\n",
       "\n",
       "[265 rows x 3 columns]"
      ]
     },
     "execution_count": 12,
     "metadata": {},
     "output_type": "execute_result"
    }
   ],
   "source": [
    "# Extract the expression data for validation samples,\n",
    "# aligning it with the corresponding annotation index\n",
    "X_new = validation_expression.loc[validation_annotation.index]\n",
    "X_new"
   ]
  },
  {
   "cell_type": "code",
   "execution_count": 13,
   "id": "a3f0ad17-6aad-4bff-8ca0-7c22dc1c12ce",
   "metadata": {
    "execution": {
     "iopub.execute_input": "2025-06-02T13:28:58.714888Z",
     "iopub.status.busy": "2025-06-02T13:28:58.714198Z",
     "iopub.status.idle": "2025-06-02T13:28:58.923243Z",
     "shell.execute_reply": "2025-06-02T13:28:58.922774Z",
     "shell.execute_reply.started": "2025-06-02T13:28:58.714871Z"
    }
   },
   "outputs": [],
   "source": [
    "# Training set\n",
    "y_train_pred = model.predict(X)               # Binary class prediction (0 or 1)\n",
    "y_train_proba = model.predict_proba(X)        # Probability estimates for each class\n",
    "\n",
    "# Validation set\n",
    "y_test_pred = model.predict(X_new)            # Binary class prediction on validation data\n",
    "y_test_proba = model.predict_proba(X_new)     # Probability estimates on validation data"
   ]
  },
  {
   "cell_type": "code",
   "execution_count": 14,
   "id": "4c62bf98-d3f1-4147-8af2-14f0e4f61e3e",
   "metadata": {
    "execution": {
     "iopub.execute_input": "2025-06-02T13:28:58.925668Z",
     "iopub.status.busy": "2025-06-02T13:28:58.924911Z",
     "iopub.status.idle": "2025-06-02T13:28:59.133190Z",
     "shell.execute_reply": "2025-06-02T13:28:59.132798Z",
     "shell.execute_reply.started": "2025-06-02T13:28:58.925651Z"
    }
   },
   "outputs": [],
   "source": [
    "# Create a DataFrame to store model predictions for training samples\n",
    "Samples_pred = pd.DataFrame(y_train_pred, index=X.index, columns=['Predictions'])\n",
    "Samples_pred.index.name = None\n",
    "\n",
    "# Assign a categorical score label (Low / Medium / High) based on predicted probability for the positive class\n",
    "Samples_pred['TKI_Score_Category'] = np.array([classify_score(score[1]) for score in y_train_proba])"
   ]
  },
  {
   "cell_type": "code",
   "execution_count": 15,
   "id": "ac42344c-8b2f-4b5d-a253-f66d60b58c64",
   "metadata": {
    "execution": {
     "iopub.execute_input": "2025-06-02T13:28:59.135548Z",
     "iopub.status.busy": "2025-06-02T13:28:59.134891Z",
     "iopub.status.idle": "2025-06-02T13:28:59.346265Z",
     "shell.execute_reply": "2025-06-02T13:28:59.345855Z",
     "shell.execute_reply.started": "2025-06-02T13:28:59.135531Z"
    }
   },
   "outputs": [],
   "source": [
    "# Convert the 'TKI_Score_Category' column to an ordered categorical type\n",
    "Samples_pred['TKI_Score_Category'] = pd.Categorical(\n",
    "    Samples_pred['TKI_Score_Category'],\n",
    "    categories=['Low', 'Medium', 'High'],\n",
    "    ordered=True\n",
    ")\n",
    "\n",
    "# Sort the predictions by score category\n",
    "Samples_pred_sorted = Samples_pred.sort_values(by='TKI_Score_Category')\n",
    "\n",
    "# Reorder the expression data to match the sorted prediction DataFrame\n",
    "Samples_sorted = X.loc[Samples_pred_sorted.index]"
   ]
  },
  {
   "cell_type": "code",
   "execution_count": 16,
   "id": "30d96d81-0fc2-41e8-9f43-39c0e3f2a983",
   "metadata": {
    "execution": {
     "iopub.execute_input": "2025-06-02T13:28:59.348588Z",
     "iopub.status.busy": "2025-06-02T13:28:59.347929Z",
     "iopub.status.idle": "2025-06-02T13:29:00.173016Z",
     "shell.execute_reply": "2025-06-02T13:29:00.172515Z",
     "shell.execute_reply.started": "2025-06-02T13:28:59.348570Z"
    }
   },
   "outputs": [
    {
     "data": {
      "image/png": "[encoded data removed]",
      "text/plain": [
       "<Figure size 1000x640 with 3 Axes>"
      ]
     },
     "metadata": {},
     "output_type": "display_data"
    }
   ],
   "source": [
    "# Set the colormap to use for the heatmap\n",
    "default_cmap = matplotlib.cm.coolwarm\n",
    "\n",
    "# Create a custom layout with axis_matras — this sets up vertical space allocation for plots\n",
    "af = axis_matras([.2, .2, 6], x_len=10)\n",
    "\n",
    "# First row: predicted TKI score category (Low / Medium / High)\n",
    "annotation_ax = next(af)\n",
    "line_palette_annotation_plot(\n",
    "    Samples_pred_sorted['TKI_Score_Category'], \n",
    "    palette=TKI_palette, \n",
    "    ax=annotation_ax\n",
    ")\n",
    "\n",
    "# Manually label each score category on the axis\n",
    "categories = ['Low', 'Medium', 'High']\n",
    "x_pos = [20, 100, 200]  # Adjusted X positions for label placement\n",
    "y_pos = [0.5, 0.5, 0.5]  # Fixed Y position (centered on the line)\n",
    "\n",
    "for i, category in enumerate(categories):\n",
    "    annotation_ax.text(x_pos[i], y_pos[i], category, ha='center', va='center',\n",
    "                       color='white', fontsize=12, fontweight='bold')\n",
    "\n",
    "# Second row: ground-truth RECIST responses\n",
    "annotation_ax = next(af)\n",
    "line_palette_annotation_plot(\n",
    "    y, \n",
    "    palette=recist, \n",
    "    ax=annotation_ax\n",
    ")\n",
    "\n",
    "# Third row: gene signature heatmap (features in rows, samples in columns)\n",
    "heatmap_ax = next(af)\n",
    "sns.heatmap(Samples_sorted.T, cmap=default_cmap,\n",
    "            cbar=False, vmin=-2, vmax=2, \n",
    "            xticklabels=False, ax=heatmap_ax)\n",
    "\n",
    "# Make Y-axis labels (feature names) horizontal and readable\n",
    "heatmap_ax.set_yticklabels(heatmap_ax.get_yticklabels(), rotation=0, ha='right', fontsize=10)\n",
    "\n",
    "# Adjust spacing between rows of the plot\n",
    "plt.subplots_adjust(hspace=0.02)\n"
   ]
  }
 ],
 "metadata": {
  "kernelspec": {
   "display_name": "TME_env",
   "language": "python",
   "name": "tme_env"
  },
  "language_info": {
   "codemirror_mode": {
    "name": "ipython",
    "version": 3
   },
   "file_extension": ".py",
   "mimetype": "text/x-python",
   "name": "python",
   "nbconvert_exporter": "python",
   "pygments_lexer": "ipython3",
   "version": "3.10.11"
  }
 },
 "nbformat": 4,
 "nbformat_minor": 5
}
