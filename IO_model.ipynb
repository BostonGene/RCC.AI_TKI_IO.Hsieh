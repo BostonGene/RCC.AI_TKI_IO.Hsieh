{
 "cells": [
  {
   "cell_type": "code",
   "execution_count": 1,
   "id": "68fffe9a-d9ec-4628-91ed-ccf670cd3af9",
   "metadata": {
    "execution": {
     "iopub.execute_input": "2025-06-02T13:28:19.667598Z",
     "iopub.status.busy": "2025-06-02T13:28:19.667451Z",
     "iopub.status.idle": "2025-06-02T13:28:23.400531Z",
     "shell.execute_reply": "2025-06-02T13:28:23.400139Z",
     "shell.execute_reply.started": "2025-06-02T13:28:19.667582Z"
    }
   },
   "outputs": [
    {
     "name": "stderr",
     "output_type": "stream",
     "text": [
      "/home/jovyan/projects/TKI_IO_perdictor_Stupichev/RCC.AI_TKI_IO.Hsieh/TME_env/lib/python3.10/site-packages/tqdm/auto.py:22: TqdmWarning: IProgress not found. Please update jupyter and ipywidgets. See https://ipywidgets.readthedocs.io/en/stable/user_install.html\n",
      "  from .autonotebook import tqdm as notebook_tqdm\n"
     ]
    }
   ],
   "source": [
    "import pandas as pd\n",
    "from sklearn.linear_model import LogisticRegression\n",
    "import pickle\n",
    "from portraits.utils import read_dataset\n",
    "from portraits.plotting import axis_net, line_palette_annotation_plot\n",
    "import numpy as np\n",
    "import seaborn as sns\n",
    "import matplotlib"
   ]
  },
  {
   "cell_type": "markdown",
   "id": "5ccfcad8-3764-43ab-821f-5fd708ddf928",
   "metadata": {},
   "source": [
    "# Loading and Inspecting a Pretrained Model"
   ]
  },
  {
   "cell_type": "code",
   "execution_count": 2,
   "id": "8382737d-46c0-4598-b2e2-65255068ddf5",
   "metadata": {
    "execution": {
     "iopub.execute_input": "2025-06-02T13:28:23.403233Z",
     "iopub.status.busy": "2025-06-02T13:28:23.402465Z",
     "iopub.status.idle": "2025-06-02T13:28:23.421543Z",
     "shell.execute_reply": "2025-06-02T13:28:23.421225Z",
     "shell.execute_reply.started": "2025-06-02T13:28:23.403216Z"
    }
   },
   "outputs": [
    {
     "data": {
      "text/plain": [
       "dict_keys(['model', 'features', 'validation_datasets', 'X_val_raw', 'meta_annotation', 'palette_projects'])"
      ]
     },
     "execution_count": 2,
     "metadata": {},
     "output_type": "execute_result"
    }
   ],
   "source": [
    "# Upload the model dictionary\n",
    "with open('Data/ccrcc_io_0.3.pickle', \"rb\") as f:\n",
    "    model_dict = pickle.load(f)\n",
    "model_dict.keys()"
   ]
  },
  {
   "cell_type": "code",
   "execution_count": 3,
   "id": "522f8476-1fa4-42f5-9c27-7e6fad347f4a",
   "metadata": {
    "execution": {
     "iopub.execute_input": "2025-06-02T13:28:23.423709Z",
     "iopub.status.busy": "2025-06-02T13:28:23.422944Z",
     "iopub.status.idle": "2025-06-02T13:28:23.427077Z",
     "shell.execute_reply": "2025-06-02T13:28:23.426719Z",
     "shell.execute_reply.started": "2025-06-02T13:28:23.423693Z"
    }
   },
   "outputs": [],
   "source": [
    "# Extract components from the model dictionary:\n",
    "# - model: the trained predictive model\n",
    "# - features: feature list used for training and inference\n",
    "# - validation_datasets: datasets used for model validation\n",
    "# - X_val_raw: raw input features for the validation set (before preprocessing)\n",
    "# - meta_annotation: metadata or clinical annotations associated with samples\n",
    "# - io_pal: color palette for immune/other classification\n",
    "# - bin_palette_black / bin_palette_black2: binary color palettes (e.g., black/white variants)\n",
    "# - ds_pal: color palette for different datasets\n",
    "# - recist_palette: color palette for RECIST response categories (CR, PR, SD, PD, NaN)\n",
    "\n",
    "model = model_dict['model']\n",
    "features = model_dict['features']\n",
    "validation_datasets = model_dict['validation_datasets']\n",
    "X_val_raw = model_dict['X_val_raw']\n",
    "meta_annotation = model_dict['meta_annotation']\n",
    "io_pal = model_dict['palette_projects']['io_pal']\n",
    "bin_palette_black = model_dict['palette_projects']['bin_palette_black']\n",
    "bin_palette_black2 = model_dict['palette_projects']['bin_palette_black2']\n",
    "ds_pal = model_dict['palette_projects']['ds_pal']\n",
    "recist_palette = model_dict['palette_projects']['recist_palette']\n"
   ]
  },
  {
   "cell_type": "markdown",
   "id": "47ef6b90-61bc-476d-a150-a00633ba7b4b",
   "metadata": {},
   "source": [
    "# Exclude Biologically Defined Non-Responders and Compute Model Predictions"
   ]
  },
  {
   "cell_type": "code",
   "execution_count": 4,
   "id": "ca5ed031-069a-49dc-8cb9-8449434698c4",
   "metadata": {
    "execution": {
     "iopub.execute_input": "2025-06-02T13:28:23.429150Z",
     "iopub.status.busy": "2025-06-02T13:28:23.428394Z",
     "iopub.status.idle": "2025-06-02T13:28:23.436160Z",
     "shell.execute_reply": "2025-06-02T13:28:23.435860Z",
     "shell.execute_reply.started": "2025-06-02T13:28:23.429134Z"
    }
   },
   "outputs": [
    {
     "name": "stderr",
     "output_type": "stream",
     "text": [
      "/tmp/ipykernel_5838/3144213827.py:14: FutureWarning: Index.__xor__ operating as a set operation is deprecated, in the future this will be a logical operation matching Series.__xor__.  Use index.symmetric_difference(other) instead.\n",
      "  X_val = X_val_raw.loc[X_val_raw.index ^ NR_samples_val]\n"
     ]
    },
    {
     "data": {
      "text/plain": [
       "(1165, 17)"
      ]
     },
     "execution_count": 4,
     "metadata": {},
     "output_type": "execute_result"
    }
   ],
   "source": [
    "# Identify non-responder (NR) samples in the validation set based on specific biological features:\n",
    "# - Antigen presentation failure (Antigen_present_failure_from_Kr == 1)\n",
    "# - MTOR pathway activation (MTOR_from_Kr == 1)\n",
    "# - High myogenesis signature (Myogenesis >= 15)\n",
    "# The indices of these samples are stored in NR_samples_val.\n",
    "\n",
    "NR_samples_val = X_val_raw[\n",
    "    (X_val_raw['Antigen_present_failure_from_Kr'] == 1) | \\\n",
    "    (X_val_raw['MTOR_from_Kr'] == 1) | \\\n",
    "    (X_val_raw['Myogenesis'] >= 15)\n",
    "].index\n",
    "                   \n",
    "len(NR_samples_val)\n",
    "X_val = X_val_raw.loc[X_val_raw.index ^ NR_samples_val]\n",
    "X_val.shape"
   ]
  },
  {
   "cell_type": "code",
   "execution_count": 5,
   "id": "ab27da46-2d09-4349-97cd-d50abcdb6aac",
   "metadata": {
    "execution": {
     "iopub.execute_input": "2025-06-02T13:28:23.438217Z",
     "iopub.status.busy": "2025-06-02T13:28:23.437562Z",
     "iopub.status.idle": "2025-06-02T13:28:23.449459Z",
     "shell.execute_reply": "2025-06-02T13:28:23.449139Z",
     "shell.execute_reply.started": "2025-06-02T13:28:23.438202Z"
    }
   },
   "outputs": [
    {
     "data": {
      "text/plain": [
       "(1165, 5)"
      ]
     },
     "metadata": {},
     "output_type": "display_data"
    },
    {
     "data": {
      "text/plain": [
       "1165"
      ]
     },
     "execution_count": 5,
     "metadata": {},
     "output_type": "execute_result"
    }
   ],
   "source": [
    "# Select only the features required by the model from the validation data\n",
    "X_val_selected = X_val[features]\n",
    "\n",
    "# Display the shape of the selected validation feature matrix\n",
    "display(X_val_selected.shape)\n",
    "\n",
    "# Predict response probabilities using the trained model\n",
    "# Keep only the probability of the positive class (index [1]) and rename the column\n",
    "val_prediction = pd.DataFrame(model.predict_proba(X_val_selected), \n",
    "                              index=X_val_selected.index)[1].rename('Response\\nscore')\n",
    "\n",
    "# Output the number of predictions made (should match the number of samples in X_val_selected)\n",
    "len(val_prediction)\n"
   ]
  },
  {
   "cell_type": "markdown",
   "id": "c5b2a3c3-538d-4923-b2ff-4763b47b956d",
   "metadata": {},
   "source": [
    "# IO Response Heatmap with Molecular and Clinical Annotations"
   ]
  },
  {
   "cell_type": "code",
   "execution_count": 6,
   "id": "cdee3a69-a106-4e80-b357-13ecca5dec30",
   "metadata": {
    "execution": {
     "iopub.execute_input": "2025-06-02T13:28:23.451198Z",
     "iopub.status.busy": "2025-06-02T13:28:23.450503Z",
     "iopub.status.idle": "2025-06-02T13:28:25.610572Z",
     "shell.execute_reply": "2025-06-02T13:28:25.609952Z",
     "shell.execute_reply.started": "2025-06-02T13:28:23.451182Z"
    }
   },
   "outputs": [
    {
     "name": "stderr",
     "output_type": "stream",
     "text": [
      "/tmp/ipykernel_5838/2733355835.py:21: FutureWarning: Index.__xor__ operating as a set operation is deprecated, in the future this will be a logical operation matching Series.__xor__.  Use index.symmetric_difference(other) instead.\n",
      "  so = list((X_val_raw.index ^ X_val_selected.index) & jav_io_samples) + \\\n",
      "/tmp/ipykernel_5838/2733355835.py:21: FutureWarning: Index.__and__ operating as a set operation is deprecated, in the future this will be a logical operation matching Series.__and__.  Use index.intersection(other) instead.\n",
      "  so = list((X_val_raw.index ^ X_val_selected.index) & jav_io_samples) + \\\n"
     ]
    },
    {
     "data": {
      "text/plain": [
       "<Axes: ylabel='Mutation in AP'>"
      ]
     },
     "execution_count": 6,
     "metadata": {},
     "output_type": "execute_result"
    },
    {
     "data": {
      "image/png": "[encoded data removed]",
      "text/plain": [
       "<Figure size 400x490 with 7 Axes>"
      ]
     },
     "metadata": {},
     "output_type": "display_data"
    }
   ],
   "source": [
    "# Set the default colormap for heatmap visualization\n",
    "default_cmap = matplotlib.cm.coolwarm\n",
    "\n",
    "# Create a custom multi-axis layout using axis_net\n",
    "# It defines a grid with 7 rows of specified relative heights\n",
    "af = axis_net(1, 7, y_len=.7, \n",
    "              gridspec_kw={'height_ratios': [.6, .6, .6, 3.5, .5, .5, .5]}, x_len=4)\n",
    "\n",
    "# Use raw validation data (before NR filtering)\n",
    "X_tmp = X_val_raw\n",
    "\n",
    "# Select samples from the JAVELIN and WU cohorts treated with IO or IO+TKI\n",
    "jav_io_samples = meta_annotation[\n",
    "    (meta_annotation.DS.isin(['ccRCC_JAVELIN_101', 'WU_ccRCC_RCCTC'])) & \n",
    "    (meta_annotation.Treatment_category.isin(['IO', 'IO+TKI']))\n",
    "].index\n",
    "\n",
    "# Define sort order:\n",
    "#   1. Start with samples excluded as NR but in the JAVELIN IO set\n",
    "#   2. Then add sorted predictions for remaining JAVELIN IO samples\n",
    "so = list((X_val_raw.index ^ X_val_selected.index) & jav_io_samples) + \\\n",
    "     list(val_prediction.reindex(jav_io_samples).dropna().sort_values().index)\n",
    "\n",
    "# Categorize response score into LOW / MED / HIGH for visualization\n",
    "tmp = pd.Series(\n",
    "    ['LOW' if x < 0.1 else 'HIGH' if x > 0.4 else 'MED' for x in val_prediction],\n",
    "    index=val_prediction.index\n",
    ")\n",
    "\n",
    "# Plot response score category (LOW/MED/HIGH) using the IO palette\n",
    "line_palette_annotation_plot(tmp.reindex(so).replace(np.nan, 'LOW'), palette=io_pal, ax=next(af))\n",
    "\n",
    "# Plot RECIST response category (CR, PR, SD, PD, NaN) using recist palette\n",
    "line_palette_annotation_plot(meta_annotation.Recist.reindex(so).fillna('NaN'), \n",
    "                             palette=recist_palette, ax=next(af))\n",
    "\n",
    "# Plot dataset origin using dataset palette\n",
    "line_palette_annotation_plot(meta_annotation.DS[so], palette=ds_pal, ax=next(af))\n",
    "\n",
    "# Plot heatmap of selected biological signatures (transposed for horizontal sample layout)\n",
    "sns.heatmap(\n",
    "    X_tmp[['PDL1+PD1', 'Angiogenesis', 'Proliferation_rate', 'ECM_associated', 'B-C']].T[so], \n",
    "    cmap=default_cmap, vmin=-2, vmax=2, ax=next(af), cbar=False, xticklabels=[]\n",
    ")\n",
    "\n",
    "# Plot binary annotations for biological mechanisms associated with non-response\n",
    "line_palette_annotation_plot(\n",
    "    (X_tmp.reindex(so)['Myogenesis'] > 15).rename(\"High Myogenesis signature\"), \n",
    "    palette=bin_palette_black, ax=next(af)\n",
    ")\n",
    "\n",
    "line_palette_annotation_plot(\n",
    "    X_tmp.reindex(so)['MTOR_from_Kr'].rename(\"MTOR activating mutation\"), \n",
    "    palette=bin_palette_black2, ax=next(af)\n",
    ")\n",
    "\n",
    "line_palette_annotation_plot(\n",
    "    X_tmp.reindex(so)['Antigen_present_failure_from_Kr'].rename(\"Mutation in AP\"), \n",
    "    palette=bin_palette_black2, ax=next(af)\n",
    ")\n",
    "\n",
    "# Optional: Save the figure\n",
    "# save_plt('NGS part plots/Fig5/IO_test_overall_heatmap')\n"
   ]
  }
 ],
 "metadata": {
  "kernelspec": {
   "display_name": "TME_env",
   "language": "python",
   "name": "tme_env"
  },
  "language_info": {
   "codemirror_mode": {
    "name": "ipython",
    "version": 3
   },
   "file_extension": ".py",
   "mimetype": "text/x-python",
   "name": "python",
   "nbconvert_exporter": "python",
   "pygments_lexer": "ipython3",
   "version": "3.10.11"
  }
 },
 "nbformat": 4,
 "nbformat_minor": 5
}
